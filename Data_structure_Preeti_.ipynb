{
  "nbformat": 4,
  "nbformat_minor": 0,
  "metadata": {
    "colab": {
      "provenance": []
    },
    "kernelspec": {
      "name": "python3",
      "display_name": "Python 3"
    },
    "language_info": {
      "name": "python"
    }
  },
  "cells": [
    {
      "cell_type": "markdown",
      "source": [
        "#DATA STRUCTURE\n"
      ],
      "metadata": {
        "id": "KLPsnnJS3QXp"
      }
    },
    {
      "cell_type": "markdown",
      "source": [
        "1.Write a code to create a string with your name and print it"
      ],
      "metadata": {
        "id": "cTORStlC3Y82"
      }
    },
    {
      "cell_type": "code",
      "execution_count": null,
      "metadata": {
        "id": "RUF1zwoo3Jsn",
        "colab": {
          "base_uri": "https://localhost:8080/"
        },
        "outputId": "cf479791-686f-40b2-83c6-5378e9af5f97"
      },
      "outputs": [
        {
          "output_type": "stream",
          "name": "stdout",
          "text": [
            "Preeti Sharma\n"
          ]
        }
      ],
      "source": [
        "my_name = \"Preeti Sharma\"\n",
        "print(my_name)"
      ]
    },
    {
      "cell_type": "markdown",
      "source": [
        "2 . Write a code to find the length of the string \"Hello World\""
      ],
      "metadata": {
        "id": "Jasqp0wJ3NhI"
      }
    },
    {
      "cell_type": "code",
      "source": [
        "my_string = \"Hello World\"\n",
        "string_length = len(my_string)\n",
        "print(string_length)\n"
      ],
      "metadata": {
        "id": "L11QMSSO4HxI",
        "colab": {
          "base_uri": "https://localhost:8080/"
        },
        "outputId": "7b0b6216-8d53-4049-802e-43e97c44def4"
      },
      "execution_count": null,
      "outputs": [
        {
          "output_type": "stream",
          "name": "stdout",
          "text": [
            "11\n"
          ]
        }
      ]
    },
    {
      "cell_type": "markdown",
      "source": [
        "3. Write a code to slice the first 3 characters from the string \"Python Programming\""
      ],
      "metadata": {
        "id": "4xPN7Hhm4jmE"
      }
    },
    {
      "cell_type": "code",
      "source": [
        "my_string = \"Python Programming\"\n",
        "sliced_string = my_string[:3]\n",
        "print(sliced_string)"
      ],
      "metadata": {
        "id": "QbSZumoF4wUG",
        "colab": {
          "base_uri": "https://localhost:8080/"
        },
        "outputId": "b0eb75f0-7fba-4c94-e853-022d5f5060cc"
      },
      "execution_count": null,
      "outputs": [
        {
          "output_type": "stream",
          "name": "stdout",
          "text": [
            "Pyt\n"
          ]
        }
      ]
    },
    {
      "cell_type": "markdown",
      "source": [
        "4.Write a code to convert the string \"hello\" to uppercase"
      ],
      "metadata": {
        "id": "ZUPAOJQf48Nh"
      }
    },
    {
      "cell_type": "code",
      "source": [
        "my_string = \"hello\"\n",
        "uppercase_string = my_string.upper()\n",
        "print(uppercase_string)\n",
        "# Output: HELLO"
      ],
      "metadata": {
        "id": "gDSmkFqh5JAw",
        "colab": {
          "base_uri": "https://localhost:8080/"
        },
        "outputId": "fb9bf3b4-56fa-4042-ee9e-283858435826"
      },
      "execution_count": null,
      "outputs": [
        {
          "output_type": "stream",
          "name": "stdout",
          "text": [
            "HELLO\n"
          ]
        }
      ]
    },
    {
      "cell_type": "markdown",
      "source": [
        "5. Write a code to replace the word \"apple\" with \"orange\" in the string \"I like apple\""
      ],
      "metadata": {
        "id": "3EBICbin5SPu"
      }
    },
    {
      "cell_type": "code",
      "source": [
        "my_string = \"I will eat apple\"\n",
        "new_string = my_string.replace(\"apple\", \"orange\")\n",
        "print(new_string)\n",
        "# Output: I like orange"
      ],
      "metadata": {
        "id": "xz5wTs465X37",
        "colab": {
          "base_uri": "https://localhost:8080/"
        },
        "outputId": "d8ab7a8d-93e4-468b-93ef-4962840618e7"
      },
      "execution_count": null,
      "outputs": [
        {
          "output_type": "stream",
          "name": "stdout",
          "text": [
            "I will eat orange\n"
          ]
        }
      ]
    },
    {
      "cell_type": "markdown",
      "source": [
        "6. Write a code to create a list with numbers 1 to 5 and print it"
      ],
      "metadata": {
        "id": "aML6Np0G5iVw"
      }
    },
    {
      "cell_type": "code",
      "source": [
        "my_list = [i for i in range(1, 6)]\n",
        "print(my_list)\n",
        "# Output: [1, 2, 3, 4, 5]\n"
      ],
      "metadata": {
        "id": "syHtCtNF5nV8",
        "colab": {
          "base_uri": "https://localhost:8080/"
        },
        "outputId": "ed763e12-9fca-41e7-c2e4-fda56d46f4b4"
      },
      "execution_count": null,
      "outputs": [
        {
          "output_type": "stream",
          "name": "stdout",
          "text": [
            "[1, 2, 3, 4, 5]\n"
          ]
        }
      ]
    },
    {
      "cell_type": "markdown",
      "source": [
        "7.Write a code to append the number 10 to the list [1, 2, 3, 4]"
      ],
      "metadata": {
        "id": "K72_zGy857AS"
      }
    },
    {
      "cell_type": "code",
      "source": [
        "my_list = [1, 2, 3, 4]\n",
        "my_list.append(10)\n",
        "print(my_list)\n",
        "# Output: [1, 2, 3, 4, 10]"
      ],
      "metadata": {
        "id": "f7hMRZcj58U9",
        "colab": {
          "base_uri": "https://localhost:8080/"
        },
        "outputId": "cf00d9f8-b90c-4432-dcf2-b1c837326258"
      },
      "execution_count": null,
      "outputs": [
        {
          "output_type": "stream",
          "name": "stdout",
          "text": [
            "[1, 2, 3, 4, 10]\n"
          ]
        }
      ]
    },
    {
      "cell_type": "markdown",
      "source": [
        "8.Write a code to remove the number 3 from the list [1, 2, 3, 4, 5]"
      ],
      "metadata": {
        "id": "vWXgzRDV6LrJ"
      }
    },
    {
      "cell_type": "code",
      "source": [
        "my_list.remove(3)\n",
        "print(my_list)\n",
        "# Output: [1, 2, 4, 5]\n"
      ],
      "metadata": {
        "id": "xu_U7qMA6M7s",
        "colab": {
          "base_uri": "https://localhost:8080/"
        },
        "outputId": "34fbb34e-406e-413c-d963-3f4c94e99c81"
      },
      "execution_count": null,
      "outputs": [
        {
          "output_type": "stream",
          "name": "stdout",
          "text": [
            "[1, 2, 4, 10]\n"
          ]
        }
      ]
    },
    {
      "cell_type": "markdown",
      "source": [
        "9.Write a code to access the second element in the list ['a', 'b', 'c', 'd']"
      ],
      "metadata": {
        "id": "mU6LofNn6Wkb"
      }
    },
    {
      "cell_type": "code",
      "source": [
        "my_list = ['a', 'b', 'c', 'd']\n",
        "second_element = my_list[1]\n",
        "print(second_element)\n",
        "# Output: b"
      ],
      "metadata": {
        "id": "SM7vKmIz6bgB",
        "colab": {
          "base_uri": "https://localhost:8080/"
        },
        "outputId": "d61cab57-8e54-45ee-cd0d-0f82bb6785d9"
      },
      "execution_count": null,
      "outputs": [
        {
          "output_type": "stream",
          "name": "stdout",
          "text": [
            "b\n"
          ]
        }
      ]
    },
    {
      "cell_type": "markdown",
      "source": [
        "10.Write a code to reverse the list [10, 20, 30, 40, 50]."
      ],
      "metadata": {
        "id": "twb5K3us6iwW"
      }
    },
    {
      "cell_type": "code",
      "source": [
        "my_list.reverse()\n",
        "print(my_list)\n",
        "# Output: [50, 40, 30, 20, 10]"
      ],
      "metadata": {
        "id": "b6tDdeoR6nkt",
        "colab": {
          "base_uri": "https://localhost:8080/"
        },
        "outputId": "f6a4caf7-121b-4802-c52d-f4587ff5ff97"
      },
      "execution_count": null,
      "outputs": [
        {
          "output_type": "stream",
          "name": "stdout",
          "text": [
            "['d', 'c', 'b', 'a']\n"
          ]
        }
      ]
    },
    {
      "cell_type": "markdown",
      "source": [
        "11.Write a code to create a tuple with the elements 100, 200, 300 and print it."
      ],
      "metadata": {
        "id": "TXPI77Va6xl5"
      }
    },
    {
      "cell_type": "code",
      "source": [
        "my_tuple = (100, 200, 300)\n",
        "print(my_tuple)\n",
        " # Output: (100, 200, 300)"
      ],
      "metadata": {
        "id": "P3icOiXy65rS",
        "colab": {
          "base_uri": "https://localhost:8080/"
        },
        "outputId": "a42be175-676e-4c4f-ebaf-fc571c8fd9ed"
      },
      "execution_count": null,
      "outputs": [
        {
          "output_type": "stream",
          "name": "stdout",
          "text": [
            "(100, 200, 300)\n"
          ]
        }
      ]
    },
    {
      "cell_type": "markdown",
      "source": [
        "12. Write a code to access the second-to-last element of the tuple ('red', 'green', 'blue', 'yellow')."
      ],
      "metadata": {
        "id": "MqRjagoU6-0L"
      }
    },
    {
      "cell_type": "code",
      "source": [
        "my_tuple = ('red', 'green', 'blue', 'yellow')\n",
        "second_to_last_element = my_tuple[-2]\n",
        "print(second_to_last_element)\n",
        "# Output: blue"
      ],
      "metadata": {
        "id": "fFOwbuId7EGq",
        "colab": {
          "base_uri": "https://localhost:8080/"
        },
        "outputId": "c6c1457d-6b46-49f1-de58-c08d37bbeee6"
      },
      "execution_count": null,
      "outputs": [
        {
          "output_type": "stream",
          "name": "stdout",
          "text": [
            "blue\n"
          ]
        }
      ]
    },
    {
      "cell_type": "markdown",
      "source": [
        "13. Write a code to find the minimum number in the tuple (10, 20, 5, 15)."
      ],
      "metadata": {
        "id": "QVa4J8g27Rac"
      }
    },
    {
      "cell_type": "code",
      "source": [
        "my_tuple = (10,20,5,15)\n",
        "second_to_last_element = my_tuple[-2]\n",
        "print(second_to_last_element)\n",
        "# Output: blue"
      ],
      "metadata": {
        "id": "umcQ6DbG7SiG",
        "colab": {
          "base_uri": "https://localhost:8080/"
        },
        "outputId": "43cfac00-29b7-4c88-c90c-ebb19d58f9cd"
      },
      "execution_count": null,
      "outputs": [
        {
          "output_type": "stream",
          "name": "stdout",
          "text": [
            "5\n"
          ]
        }
      ]
    },
    {
      "cell_type": "markdown",
      "source": [
        "14. Write a code to find the index of the element \"cat\" in the tuple ('dog', 'cat', 'rabbit')."
      ],
      "metadata": {
        "id": "W49LmzbJ7d_b"
      }
    },
    {
      "cell_type": "code",
      "source": [
        "my_tuple = ('dog', 'cat', 'rabbit')\n",
        "index_of_cat = my_tuple.index('cat')\n",
        "print(index_of_cat)\n",
        "# Output: 1"
      ],
      "metadata": {
        "colab": {
          "base_uri": "https://localhost:8080/"
        },
        "id": "1aqQo5po7fYu",
        "outputId": "4080ac2c-bd9f-447d-ddd0-cdbcbdf32534"
      },
      "execution_count": null,
      "outputs": [
        {
          "output_type": "stream",
          "name": "stdout",
          "text": [
            "1\n"
          ]
        }
      ]
    },
    {
      "cell_type": "markdown",
      "source": [
        "15. Write a code to create a tuple containing three different fruits and check if \"kiwi\" is in it"
      ],
      "metadata": {
        "id": "OfT25iT8nayF"
      }
    },
    {
      "cell_type": "code",
      "source": [
        "tuple = (\"apple\",\"mango\",\"kiwi\")\n",
        "if \"kiwi\" in tuple:\n",
        "     print(\"kiwi is in tuple\")\n"
      ],
      "metadata": {
        "id": "jBIdUClJncn0",
        "colab": {
          "base_uri": "https://localhost:8080/"
        },
        "outputId": "66c8193f-e75a-4dfc-f877-6d125110199c"
      },
      "execution_count": null,
      "outputs": [
        {
          "output_type": "stream",
          "name": "stdout",
          "text": [
            "kiwi is in tuple\n"
          ]
        }
      ]
    },
    {
      "cell_type": "markdown",
      "source": [
        "16. Write a code to create a set with the elements 'a', 'b', 'c' and print it.\n",
        "\n"
      ],
      "metadata": {
        "id": "QqJNkDfJnl-S"
      }
    },
    {
      "cell_type": "code",
      "source": [
        "my_set = {'a', 'b', 'c'}\n",
        "\n",
        "# Print the set\n",
        "print(my_set)"
      ],
      "metadata": {
        "id": "k9m_fXVVnrLA",
        "colab": {
          "base_uri": "https://localhost:8080/"
        },
        "outputId": "6ccf1d9e-51a4-4ebb-9660-62a7d748a052"
      },
      "execution_count": null,
      "outputs": [
        {
          "output_type": "stream",
          "name": "stdout",
          "text": [
            "{'a', 'b', 'c'}\n"
          ]
        }
      ]
    },
    {
      "cell_type": "markdown",
      "source": [
        "17. Write a code to clear all elements from the set {1, 2, 3, 4, 5}"
      ],
      "metadata": {
        "id": "hHNn9VkaEgzz"
      }
    },
    {
      "cell_type": "code",
      "source": [
        "my_set = {1, 2, 3, 4, 5}  # Resetting the set for demonstration\n",
        "\n",
        "my_set = set()  # Reassigning to an empty set\n",
        "print(\"Set after clearing (reassignment):\", my_set)\n"
      ],
      "metadata": {
        "id": "WLAxqV5Sn7nG",
        "colab": {
          "base_uri": "https://localhost:8080/"
        },
        "outputId": "89a14f32-4b0c-488b-d34d-7292ec8c24bf"
      },
      "execution_count": null,
      "outputs": [
        {
          "output_type": "stream",
          "name": "stdout",
          "text": [
            "Set after clearing (reassignment): set()\n"
          ]
        }
      ]
    },
    {
      "cell_type": "markdown",
      "source": [
        "18. Write a code to remove the element 4 from the set {1, 2, 3, 4}\n",
        "\n"
      ],
      "metadata": {
        "id": "N9rTyk8poKno"
      }
    },
    {
      "cell_type": "code",
      "source": [
        "my_set.discard(4)  # If 4 is not present, discard() does nothing. No error.\n",
        "print(\"Set after discarding 4:\", my_set)"
      ],
      "metadata": {
        "id": "SsNbpCSrouVC",
        "colab": {
          "base_uri": "https://localhost:8080/"
        },
        "outputId": "ba116155-7a07-4230-b4cd-40d65e7e7787"
      },
      "execution_count": null,
      "outputs": [
        {
          "output_type": "stream",
          "name": "stdout",
          "text": [
            "Set after discarding 4: set()\n"
          ]
        }
      ]
    },
    {
      "cell_type": "markdown",
      "source": [
        "19. Write a code to find the union of two sets {1, 2, 3} and {3, 4, 5}"
      ],
      "metadata": {
        "id": "hI61JDm_owPG"
      }
    },
    {
      "cell_type": "code",
      "source": [
        "my_set = {1, 2, 3}\n",
        "other_set = {3, 4, 5}\n",
        "\n",
        "union_set = my_set | other_set\n",
        "print(\"Union using | operator:\", union_set)"
      ],
      "metadata": {
        "id": "FSCBi8hOo0rl",
        "colab": {
          "base_uri": "https://localhost:8080/"
        },
        "outputId": "84a1eb40-801c-49c8-dc91-84f0b76273dc"
      },
      "execution_count": null,
      "outputs": [
        {
          "output_type": "stream",
          "name": "stdout",
          "text": [
            "Union using | operator: {1, 2, 3, 4, 5}\n"
          ]
        }
      ]
    },
    {
      "cell_type": "markdown",
      "source": [
        "20. Write a code to find the intersection of two sets {1, 2, 3} and {2, 3, 4}"
      ],
      "metadata": {
        "id": "xCEz-mQTo-Eu"
      }
    },
    {
      "cell_type": "code",
      "source": [
        "my_set = {1, 2, 3}\n",
        "other_set = {2, 3, 4}\n",
        "\n",
        "intersection_set = my_set & other_set\n",
        "print(\"Intersection using & operator:\", intersection_set)"
      ],
      "metadata": {
        "id": "qsh2y35apDGc",
        "colab": {
          "base_uri": "https://localhost:8080/"
        },
        "outputId": "4d6a68dc-cc52-43aa-e347-e55dfb52706e"
      },
      "execution_count": null,
      "outputs": [
        {
          "output_type": "stream",
          "name": "stdout",
          "text": [
            "Intersection using & operator: {2, 3}\n"
          ]
        }
      ]
    },
    {
      "cell_type": "markdown",
      "source": [
        "21. Write a code to create a dictionary with the keys \"name\", \"age\", and \"city\", and print it"
      ],
      "metadata": {
        "id": "TXJKbp9ppJXo"
      }
    },
    {
      "cell_type": "code",
      "source": [
        "my_dict = {\"name\": \"Alice\", \"age\": 30, \"city\": \"New York\"}\n",
        "print(my_dict)\n",
        "# Output: {'name': 'Alice', 'age': 30, 'city': 'New York'}"
      ],
      "metadata": {
        "id": "rHPKK8BFpQ8g",
        "colab": {
          "base_uri": "https://localhost:8080/"
        },
        "outputId": "3c667133-9956-41a1-95e9-c721ed023ce5"
      },
      "execution_count": null,
      "outputs": [
        {
          "output_type": "stream",
          "name": "stdout",
          "text": [
            "{'name': 'Alice', 'age': 30, 'city': 'New York'}\n"
          ]
        }
      ]
    },
    {
      "cell_type": "markdown",
      "source": [
        "22. Write a code to add a new key-value pair \"country\": \"USA\" to the dictionary {'name': 'John', 'age': 25}"
      ],
      "metadata": {
        "id": "bfGR5LBopZC8"
      }
    },
    {
      "cell_type": "code",
      "source": [
        "my_dict['country'] = 'USA'\n",
        "print(my_dict)\n",
        " # Output: {'name': 'John', 'age': 25, 'country': 'USA'}"
      ],
      "metadata": {
        "id": "uHgyIXx9pdRH",
        "colab": {
          "base_uri": "https://localhost:8080/"
        },
        "outputId": "ee319eb1-33de-4aa7-f8eb-af274c2e4b9d"
      },
      "execution_count": null,
      "outputs": [
        {
          "output_type": "stream",
          "name": "stdout",
          "text": [
            "{'name': 'Alice', 'age': 30, 'city': 'New York', 'country': 'USA'}\n"
          ]
        }
      ]
    },
    {
      "cell_type": "markdown",
      "source": [
        "23. Write a code to access the value associated with the key \"name\" in the dictionary {'name': 'Alice', 'age': 30}"
      ],
      "metadata": {
        "id": "gaoeLjStpog3"
      }
    },
    {
      "cell_type": "code",
      "source": [
        "name = my_dict['name']\n",
        "print(name)\n",
        "# Output: Alice"
      ],
      "metadata": {
        "id": "P4jGhy2Dptey",
        "colab": {
          "base_uri": "https://localhost:8080/"
        },
        "outputId": "a82a1f58-9b55-48bf-9aa4-b7718bdf5919"
      },
      "execution_count": null,
      "outputs": [
        {
          "output_type": "stream",
          "name": "stdout",
          "text": [
            "Alice\n"
          ]
        }
      ]
    },
    {
      "cell_type": "markdown",
      "source": [
        "24. Write a code to remove the key \"age\" from the dictionary {'name': 'Bob', 'age': 22, 'city': 'New York'}"
      ],
      "metadata": {
        "id": "Op3LgQrOp3sD"
      }
    },
    {
      "cell_type": "code",
      "source": [
        "del my_dict['age']\n",
        "print(my_dict)\n",
        "# Output: {'name': 'Bob', 'city': 'New York'}"
      ],
      "metadata": {
        "id": "adx1LvVAqJKN"
      },
      "execution_count": null,
      "outputs": []
    },
    {
      "cell_type": "markdown",
      "source": [
        "25. Write a code to check if the key \"city\" exists in the dictionary {'name': 'Alice', 'city': 'Paris'}"
      ],
      "metadata": {
        "id": "TArOmWQNqKp0"
      }
    },
    {
      "cell_type": "code",
      "source": [
        "if 'city' in my_dict:\n",
        "    print(\"The key 'city' exists in the dictionary.\")\n",
        "else:\n",
        "    print(\"The key 'city' does not exist in the dictionary.\")\n",
        "    # This won't be printed in this case"
      ],
      "metadata": {
        "id": "fLMLzKyUqQwl",
        "colab": {
          "base_uri": "https://localhost:8080/"
        },
        "outputId": "5b189a39-81a2-4f09-ea96-7715aca4bca8"
      },
      "execution_count": null,
      "outputs": [
        {
          "output_type": "stream",
          "name": "stdout",
          "text": [
            "The key 'city' exists in the dictionary.\n"
          ]
        }
      ]
    },
    {
      "cell_type": "markdown",
      "source": [
        "26. Write a code to create a list, a tuple, and a dictionary, and print them all."
      ],
      "metadata": {
        "id": "lfC3BlTGqYcW"
      }
    },
    {
      "cell_type": "code",
      "source": [
        "# Create a list\n",
        "my_list = [1, 2, 3, \"apple\", 3.14]\n",
        "\n",
        "# Create a tuple\n",
        "my_tuple = (10, 20, 30, \"banana\", 6.28)\n",
        "\n",
        "# Create a dictionary\n",
        "my_dict = {\"name\": \"Alice\", \"age\": 25, \"city\": \"New York\"}\n",
        "\n",
        "# Print the list\n",
        "print(\"List:\", my_list)\n",
        "\n",
        "# Print the tuple\n",
        "print(\"Tuple:\", my_tuple)\n",
        "\n",
        "# Print the dictionary\n",
        "print(\"Dictionary:\", my_dict)"
      ],
      "metadata": {
        "id": "h4z-3VptqgEp",
        "colab": {
          "base_uri": "https://localhost:8080/"
        },
        "outputId": "6e1a4f7f-9ffc-44d4-d50a-52ed3bccd7d0"
      },
      "execution_count": null,
      "outputs": [
        {
          "output_type": "stream",
          "name": "stdout",
          "text": [
            "List: [1, 2, 3, 'apple', 3.14]\n",
            "Tuple: (10, 20, 30, 'banana', 6.28)\n",
            "Dictionary: {'name': 'Alice', 'age': 25, 'city': 'New York'}\n"
          ]
        }
      ]
    },
    {
      "cell_type": "markdown",
      "source": [
        "27. Write a code to create a list of 5 random numbers between 1 and 100, sort it in ascending order, and print the\n",
        "result.(replaced)"
      ],
      "metadata": {
        "id": "lw3xXwMgqr0C"
      }
    },
    {
      "cell_type": "code",
      "source": [
        "my_set = {1, 2, 3, 4, 5}\n",
        "other_set = {3, 4, 5}\n",
        "\n",
        "union_set = my_set | other_set\n",
        "print(\"Union using | operator:\", union_set)"
      ],
      "metadata": {
        "id": "zNyInExDqvdS",
        "colab": {
          "base_uri": "https://localhost:8080/"
        },
        "outputId": "2f29454a-1189-48a3-c326-08e101cb63ff"
      },
      "execution_count": null,
      "outputs": [
        {
          "output_type": "stream",
          "name": "stdout",
          "text": [
            "Union using | operator: {1, 2, 3, 4, 5}\n"
          ]
        }
      ]
    },
    {
      "cell_type": "markdown",
      "source": [
        "28. Write a code to create a list with strings and print the element at the third index"
      ],
      "metadata": {
        "id": "AWxs737oq-CS"
      }
    },
    {
      "cell_type": "code",
      "source": [
        "third_element = my_list[2]\n",
        "print(third_element)\n",
        "# Output: cherry"
      ],
      "metadata": {
        "id": "neXIpFn6q_Ao",
        "colab": {
          "base_uri": "https://localhost:8080/"
        },
        "outputId": "346f70bf-694f-4e08-ff50-d58ea08b2c18"
      },
      "execution_count": null,
      "outputs": [
        {
          "output_type": "stream",
          "name": "stdout",
          "text": [
            "3\n"
          ]
        }
      ]
    },
    {
      "cell_type": "markdown",
      "source": [
        "29. Write a code to combine two dictionaries into one and print the result"
      ],
      "metadata": {
        "id": "LJFy8nl6rQDQ"
      }
    },
    {
      "cell_type": "code",
      "source": [
        "dict1 = {'a': 1, 'b': 2}\n",
        "dict2 = {'c': 3, 'd': 4}\n",
        "dict1.update(dict2)\n",
        "print(\"Combined dictionary (Method 1):\", dict1)"
      ],
      "metadata": {
        "id": "vWx3qPV-rQzs",
        "colab": {
          "base_uri": "https://localhost:8080/"
        },
        "outputId": "c791ea53-a7f2-4d07-d97a-e33199416710"
      },
      "execution_count": null,
      "outputs": [
        {
          "output_type": "stream",
          "name": "stdout",
          "text": [
            "Combined dictionary (Method 1): {'a': 1, 'b': 2, 'c': 3, 'd': 4}\n"
          ]
        }
      ]
    },
    {
      "cell_type": "markdown",
      "source": [
        "30.Write a code to convert a list of strings into a set."
      ],
      "metadata": {
        "id": "HK-dFBoWrWoo"
      }
    },
    {
      "cell_type": "code",
      "source": [
        "my_list = [\"apple\", \"banana\", \"cherry\", \"apple\", \"date\", \"banana\"]\n",
        "\n",
        "# Method 1: Using the set() constructor\n",
        "my_set = set(my_list)\n",
        "print(\"Set created using set():\", my_set)\n",
        "# Output: {'apple', 'banana', 'cherry', 'date'}\n"
      ],
      "metadata": {
        "id": "HiXZkfVNraOi",
        "colab": {
          "base_uri": "https://localhost:8080/"
        },
        "outputId": "d80f5938-f7a8-495a-f8f2-29c7091289dc"
      },
      "execution_count": null,
      "outputs": [
        {
          "output_type": "stream",
          "name": "stdout",
          "text": [
            "Set created using set(): {'banana', 'date', 'apple', 'cherry'}\n"
          ]
        }
      ]
    }
  ]
}